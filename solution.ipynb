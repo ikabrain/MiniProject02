{
  "nbformat": 4,
  "nbformat_minor": 0,
  "metadata": {
    "colab": {
      "provenance": [],
      "authorship_tag": "ABX9TyMGQjgSTViDNV/qzFYR6ds+",
      "include_colab_link": true
    },
    "kernelspec": {
      "name": "python3",
      "display_name": "Python 3"
    },
    "language_info": {
      "name": "python"
    }
  },
  "cells": [
    {
      "cell_type": "markdown",
      "metadata": {
        "id": "view-in-github",
        "colab_type": "text"
      },
      "source": [
        "<a href=\"https://colab.research.google.com/github/ikabrain/MiniProject02/blob/main/solution.ipynb\" target=\"_parent\"><img src=\"https://colab.research.google.com/assets/colab-badge.svg\" alt=\"Open In Colab\"/></a>"
      ]
    },
    {
      "cell_type": "markdown",
      "source": [
        "---\n",
        "# Challenge Question\n",
        "---\n",
        "Q. Write a python program to sort the list of heterogeneous data.\n",
        "\n",
        "e.g.\n",
        "\n",
        "```py\n",
        "L = [\"Ram\", 1, \"Shyam\", 2, \"Aman\", 3]\n",
        "print(L)\n",
        "L.sort()\n",
        "print(L)\n",
        "# Above code gives error. Correct it.\n",
        "```"
      ],
      "metadata": {
        "id": "9gG3yHD226Ki"
      }
    },
    {
      "cell_type": "code",
      "source": [
        "L = [\"Ram\", 1, \"Shyam\", 2, \"Aman\", 3]\n",
        "\n",
        "print(\"Before sorting, L =\", L)\n",
        "\n",
        "L1 = []\n",
        "L2 = []\n",
        "for elem in L:\n",
        "    try:\n",
        "        L1.append(int(elem))\n",
        "    except ValueError:\n",
        "        L2.append(elem)\n",
        "\n",
        "L1.sort()\n",
        "L2.sort()\n",
        "L = L1 + L2\n",
        "\n",
        "print(\" After sorting, L =\", L)"
      ],
      "metadata": {
        "colab": {
          "base_uri": "https://localhost:8080/"
        },
        "id": "P7_yxVUa5Cpp",
        "outputId": "b8c93931-530f-4111-f5da-a3550f1e283b"
      },
      "execution_count": 3,
      "outputs": [
        {
          "output_type": "stream",
          "name": "stdout",
          "text": [
            "Before sorting, L = ['Ram', 1, 'Shyam', 2, 'Aman', 3]\n",
            " After sorting, L = [1, 2, 3, 'Aman', 'Ram', 'Shyam']\n"
          ]
        }
      ]
    }
  ]
}